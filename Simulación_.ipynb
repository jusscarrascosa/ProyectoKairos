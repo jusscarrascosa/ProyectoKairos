{
  "nbformat": 4,
  "nbformat_minor": 0,
  "metadata": {
    "colab": {
      "provenance": [],
      "authorship_tag": "ABX9TyPCIIZ5kRHrPjDJvRtcDqsM",
      "include_colab_link": true
    },
    "kernelspec": {
      "name": "python3",
      "display_name": "Python 3"
    },
    "language_info": {
      "name": "python"
    }
  },
  "cells": [
    {
      "cell_type": "markdown",
      "metadata": {
        "id": "view-in-github",
        "colab_type": "text"
      },
      "source": [
        "<a href=\"https://colab.research.google.com/github/jusscarrascosa/ProyectoKairos/blob/main/Simulaci%C3%B3n_.ipynb\" target=\"_parent\"><img src=\"https://colab.research.google.com/assets/colab-badge.svg\" alt=\"Open In Colab\"/></a>"
      ]
    },
    {
      "cell_type": "code",
      "execution_count": null,
      "metadata": {
        "id": "YfolmU22DvgP"
      },
      "outputs": [],
      "source": [
        "# imports básicos\n",
        "import numpy as np\n",
        "import pandas as pd\n",
        "import matplotlib.pyplot as plt\n",
        "from scipy import signal\n",
        "\n",
        "# utilidades para estructura y logging\n",
        "from dataclasses import dataclass, field\n",
        "from typing import List, Dict, Callable, Any, Optional\n",
        "from collections import deque\n",
        "import logging\n",
        "import json\n",
        "import time\n",
        "import random\n",
        "\n",
        "# imports opcionales (no fallan si no están instalados; los usaremos si están disponibles)\n",
        "try:\n",
        "    import simpy   # simulación de eventos discretos (opcional)\n",
        "except Exception:\n",
        "    simpy = None\n",
        "\n",
        "try:\n",
        "    from tqdm import tqdm  # barra de progreso (opcional)\n",
        "except Exception:\n",
        "    tqdm = None\n",
        "\n",
        "try:\n",
        "# si querés usar una implementación de Kalman ya hecha\\n\",\n",
        "    from filterpy.kalman import KalmanFilter\n",
        "except Exception:\n",
        "    KalmanFilter = None\n",
        "\n",
        "# configuración reproducible y de estilo de gráficas (como en tu código)\n",
        "RANDOM_SEED = 42\n",
        "np.random.seed(RANDOM_SEED)\n",
        "random.seed(RANDOM_SEED)\n",
        "\n",
        "plt.style.use(\"seaborn-v0_8-whitegrid\")\n",
        "plt.rcParams.update({\n",
        "    \"font.size\": 12,\n",
        "    \"axes.titlesize\": 14,\n",
        "    \"axes.labelsize\": 12,\n",
        "    \"legend.fontsize\": 11,\n",
        "    \"figure.figsize\": (10, 4),\n",
        "    \"lines.linewidth\": 2,\n",
        "})"
      ]
    },
    {
      "cell_type": "code",
      "source": [
        "# ==== RESILIENCIA KAIROS: setup global ====\n",
        "from resiliencia_kairos import (\n",
        "    TimeAuthority, resample_align, HybridWatermarkBuffer,\n",
        "    SnapshotCatalog, kpi_valid_rate, kpi_mttr, kpi_state_ratios, kpi_cri, kpi_hash_integrity\n",
        ")\n",
        "import pandas as pd, time\n",
        "\n",
        "TA = TimeAuthority(window=400)\n",
        "_BASES = {}  # sid -> {\"ref0\": float, \"dev0\": float}\n",
        "\n",
        "def corregir_timestamp(packet: dict, sensor_id: str):\n",
        "    \"\"\"\n",
        "    Corrige offset y deriva usando tiempos RELATIVOS por sensor y\n",
        "    reconstruye el tiempo corregido absoluto. Agrega:\n",
        "      - packet['time_corr'] (float epoch)\n",
        "      - packet['time_corr_ts'] (pandas.Timestamp)\n",
        "    \"\"\"\n",
        "    t_ref_abs = time.time()\n",
        "    raw = packet.get(\"time\", t_ref_abs)\n",
        "    if isinstance(raw, pd.Timestamp):\n",
        "        t_dev_abs = raw.timestamp()\n",
        "    elif isinstance(raw, (int, float)):\n",
        "        t_dev_abs = float(raw)\n",
        "    else:\n",
        "        t_dev_abs = pd.to_datetime(raw).timestamp()\n",
        "\n",
        "    if sensor_id not in _BASES:\n",
        "        _BASES[sensor_id] = {\"ref0\": t_ref_abs, \"dev0\": t_dev_abs}\n",
        "\n",
        "    ref0 = _BASES[sensor_id][\"ref0\"]\n",
        "    dev0 = _BASES[sensor_id][\"dev0\"]\n",
        "\n",
        "    # trabajar en relativo para evitar offsets astronómicos\n",
        "    t_ref_rel = t_ref_abs - ref0\n",
        "    t_dev_rel = t_dev_abs - dev0\n",
        "\n",
        "    TA.update(sensor_id, t_dev_rel, t_ref_rel)\n",
        "    t_corr_rel = TA.correct(sensor_id, t_dev_rel)\n",
        "    t_corr_abs = ref0 + t_corr_rel\n",
        "\n",
        "    packet[\"time_corr\"] = t_corr_abs\n",
        "    packet[\"time_corr_ts\"] = pd.to_datetime(t_corr_abs, unit=\"s\")\n",
        "    return packet\n",
        "# ==== fin setup ====\n"
      ],
      "metadata": {
        "id": "kGJ7oZj8qEXq"
      },
      "execution_count": null,
      "outputs": []
    },
    {
      "cell_type": "code",
      "source": [
        "# ==== snapshots / auditoría (Kairos) ====\n",
        "CAT = SnapshotCatalog(root=\"/mnt/data/state_store\")\n",
        "\n",
        "# guardaremos el último deploy_id para poder volver atrás\n",
        "last_deploy_id = None\n",
        "\n",
        "def snapshot_model(model_obj, cfg_dict, metrics_dict):\n",
        "    global last_deploy_id\n",
        "    meta = CAT.create(artifact=model_obj, config=cfg_dict, metrics=metrics_dict)\n",
        "    last_deploy_id = meta.deploy_id\n",
        "    print(\"[Snapshot] deploy_id:\", meta.deploy_id)\n",
        "    return meta.deploy_id\n",
        "\n",
        "def rollback_to(deploy_id):\n",
        "    artifact, cfg, met, meta_info = CAT.load(deploy_id)\n",
        "    print(\"[Rollback] restaurado\", deploy_id)\n",
        "    return artifact, cfg, met\n",
        "# ==== fin snapshots ====\n"
      ],
      "metadata": {
        "id": "u_ZkOK9TyNrC"
      },
      "execution_count": null,
      "outputs": []
    },
    {
      "cell_type": "markdown",
      "source": [
        "# Planta Real"
      ],
      "metadata": {
        "id": "_TP1Hbrts77v"
      }
    },
    {
      "cell_type": "markdown",
      "source": [
        "## Definicion del entorno fisico"
      ],
      "metadata": {
        "id": "tWRU30D8tHwS"
      }
    },
    {
      "cell_type": "code",
      "source": [
        "def generate_real_signals(t):\n",
        "    temp = 20 + 5*np.sin(0.05*t) + np.random.normal(0, 3)\n",
        "    solar_rad = max(0, 800*np.sin(0.1*t)) + np.random.normal(0, 20)\n",
        "    solar_rad = max(0, solar_rad)  # <-- añade esta línea\n",
        "    humidity = 50 + 10*np.sin(0.02*t) + np.random.normal(0, 1)\n",
        "    pressure = 1013 + 5*np.sin(0.01*t) + np.random.normal(0, 5)\n",
        "    wind = 5 + 2*np.sin(0.07*t) + np.random.normal(0, 2)\n",
        "    grid_available = 1 if np.random.rand() > 0.01 else 0\n",
        "    return {\"temp\": temp, \"solar_rad\": solar_rad, \"humidity\": humidity,\n",
        "            \"pressure\": pressure, \"wind\": wind, \"grid\": grid_available}"
      ],
      "metadata": {
        "id": "FguIMweGUa4J"
      },
      "execution_count": null,
      "outputs": []
    },
    {
      "cell_type": "markdown",
      "source": [
        "## Sensores"
      ],
      "metadata": {
        "id": "jU2js8titWiQ"
      }
    },
    {
      "cell_type": "code",
      "source": [
        "@dataclass\n",
        "class Sensor:\n",
        "    name: str\n",
        "    noise_std: float\n",
        "    bias: float = 0.0\n",
        "    missing_prob: float = 0.0  # probabilidad de fallo\n",
        "\n",
        "    def read(self, true_value):\n",
        "        if np.random.rand() < self.missing_prob:\n",
        "            return None  # fallo de lectura\n",
        "        noisy_value = true_value + self.bias + np.random.normal(0, self.noise_std)\n",
        "        return noisy_value\n",
        "\n",
        "# Sensores definidos\n",
        "termocupla1 = Sensor(\"TC1\", noise_std=0.5)\n",
        "termocupla2 = Sensor(\"TC2\", noise_std=0.7, bias=0.2)\n",
        "termocupla3 = Sensor(\"TC3\", noise_std=0.6)\n",
        "\n",
        "infrarrojo1 = Sensor(\"IR1\", noise_std=1.5)\n",
        "infrarrojo2 = Sensor(\"IR2\", noise_std=1.2, bias=-0.5)\n",
        "infrarrojo3 = Sensor(\"IR3\", noise_std=1.0)\n"
      ],
      "metadata": {
        "id": "kBIHET0etXyT"
      },
      "execution_count": null,
      "outputs": []
    },
    {
      "cell_type": "code",
      "source": [
        "class PlausibilityFilter:\n",
        "    def __init__(self, min_val: float, max_val: float):\n",
        "        self.min_val = min_val\n",
        "        self.max_val = max_val\n",
        "\n",
        "    def check(self, value) -> float:\n",
        "        # Soporta float, numpy.float64, None, etc.\n",
        "        import pandas as _pd\n",
        "        import numpy as _np\n",
        "        if value is None or _pd.isna(value):\n",
        "            return _np.nan\n",
        "        if value < self.min_val or value > self.max_val:\n",
        "            return _np.nan\n",
        "        return float(value)\n"
      ],
      "metadata": {
        "id": "fwBtNiahGoZe"
      },
      "execution_count": null,
      "outputs": []
    },
    {
      "cell_type": "markdown",
      "source": [
        "##Estacion Meteorologica"
      ],
      "metadata": {
        "id": "RD64A2adtgIg"
      }
    },
    {
      "cell_type": "code",
      "source": [
        "est_temp = Sensor(\"EstTemp\", noise_std=0.3)\n",
        "est_hum = Sensor(\"EstHum\", noise_std=1.0)\n",
        "est_press = Sensor(\"EstPress\", noise_std=0.5)\n"
      ],
      "metadata": {
        "id": "R3APnQaItibV"
      },
      "execution_count": null,
      "outputs": []
    },
    {
      "cell_type": "markdown",
      "source": [
        "## Generacion de Energia"
      ],
      "metadata": {
        "id": "GV4-jacztmsy"
      }
    },
    {
      "cell_type": "code",
      "source": [
        "@dataclass\n",
        "class SolarPanel:\n",
        "    area: float  # m²\n",
        "    efficiency: float  # 0–1\n",
        "\n",
        "    def generate(self, solar_rad):\n",
        "        return self.area * self.efficiency * solar_rad / 1000  # kW aprox\n",
        "\n",
        "@dataclass\n",
        "class WindTurbine:\n",
        "    k: float\n",
        "    p_max: float\n",
        "\n",
        "    def generate(self, wind_speed):\n",
        "        power = self.k * (wind_speed**3)\n",
        "        return min(power, self.p_max)\n",
        "\n",
        "@dataclass\n",
        "class Battery:\n",
        "    capacity: float  # kWh\n",
        "    soc: float = 0.5  # estado de carga inicial [0–1]\n",
        "\n",
        "    def charge(self, power_in, dt=1):\n",
        "        self.soc = min(1.0, self.soc + (power_in/self.capacity)*dt)\n",
        "\n",
        "    def discharge(self, power_out, dt=1):\n",
        "        self.soc = max(0.0, self.soc - (power_out/self.capacity)*dt)\n",
        "\n",
        "    def get_energy(self):\n",
        "        return self.capacity * self.soc\n"
      ],
      "metadata": {
        "id": "NuLazssWtop5"
      },
      "execution_count": null,
      "outputs": []
    },
    {
      "cell_type": "markdown",
      "source": [
        "##Simulacion del entorno"
      ],
      "metadata": {
        "id": "7yCwJYVcuqV3"
      }
    },
    {
      "cell_type": "code",
      "source": [
        "solar = SolarPanel(area=10, efficiency=0.18)  # área 10 m², eficiencia 18% preguntarle a bauti\n",
        "turbina = WindTurbine(k=0.05, p_max=5)        # curva simple, límite 5 kW bauti\n",
        "bateria = Battery(capacity=20)                # batería de 20 kWh bauti\n",
        "\n",
        "# Eficiencias de carga/descarga\n",
        "eta_carga = 0.95\n",
        "eta_descarga = 0.9\n",
        "\n",
        "# Tiempo de simulación (24 h, paso de 1 min)\n",
        "dt = 1  # minutos\n",
        "T_sim = 24 * 60\n",
        "t_grid = np.arange(0, T_sim, dt)  # vector de tiempos de simulación\n",
        "\n",
        "# Log para guardar resultados\n",
        "log = {\n",
        "    \"time\": [],\n",
        "    \"temp\": [],\n",
        "    \"solar_rad\": [],\n",
        "    \"wind\": [],\n",
        "    \"grid\": [],\n",
        "    \"panel\": [],\n",
        "    \"turbina\": [],\n",
        "    \"demanda\": [],\n",
        "    \"balance\": [],\n",
        "    \"soc\": []\n",
        "}\n",
        "#Loop de simulcion\n",
        "for t in t_grid:\n",
        "    # --- 1. Generar señales reales de la planta\n",
        "    signals = generate_real_signals(t)\n",
        "\n",
        "    # --- 2. Leer sensores\n",
        "    temp = termocupla1.read(signals[\"temp\"])\n",
        "    solar_rad = infrarrojo1.read(signals[\"solar_rad\"])\n",
        "    wind = est_temp.read(signals[\"wind\"])  # ojo: podés definir sensor específico para viento\n",
        "    grid = signals[\"grid\"]\n",
        "\n",
        "    # --- 3. Generación solar y eólica\n",
        "    panel_power = solar.generate(solar_rad if solar_rad else 0)\n",
        "    turbina_power = turbina.generate(wind if wind else 0)\n",
        "    generacion = panel_power + turbina_power\n",
        "\n",
        "    # --- 4. Demanda (más alta de noche, más baja de día)\n",
        "    hora = (t % 1440) / 60\n",
        "    if 0 <= hora < 6 or 20 <= hora < 24:\n",
        "        demanda = 3.0  # kW\n",
        "    else:\n",
        "        demanda = 1.5  # kW\n",
        "\n",
        "    # --- 5. Balance neto\n",
        "    balance = generacion - demanda\n",
        "\n",
        "    # --- 6. Actualizar batería\n",
        "    if balance >= 0:  # sobra energía → carga\n",
        "        bateria.charge(balance * eta_carga * (dt/60))\n",
        "    else:  # falta energía → descarga\n",
        "        bateria.discharge(-balance / eta_descarga * (dt/60))\n",
        "\n",
        "    # --- 7. Guardar en log\n",
        "    log[\"time\"].append(t)\n",
        "    log[\"temp\"].append(temp)\n",
        "    log[\"solar_rad\"].append(solar_rad)\n",
        "    log[\"wind\"].append(wind)\n",
        "    log[\"grid\"].append(grid)\n",
        "    log[\"panel\"].append(panel_power)\n",
        "    log[\"turbina\"].append(turbina_power)\n",
        "    log[\"demanda\"].append(demanda)\n",
        "    log[\"balance\"].append(balance)\n",
        "    log[\"soc\"].append(bateria.soc)\n",
        "\n",
        "# Convertimos log a DataFrame\n",
        "auditoriadelentorno = pd.DataFrame(log)\n",
        "print(auditoriadelentorno.head())"
      ],
      "metadata": {
        "colab": {
          "base_uri": "https://localhost:8080/"
        },
        "id": "-f8rjD-nus46",
        "outputId": "7a3707b0-3384-401b-9ab2-32ef06e8f7be"
      },
      "execution_count": null,
      "outputs": [
        {
          "output_type": "stream",
          "name": "stdout",
          "text": [
            "   time       temp   solar_rad      wind  grid     panel   turbina  demanda  \\\n",
            "0     0  21.373074   -0.871317  4.374142     1 -0.001568  4.184550      3.0   \n",
            "1     1  21.132906   40.656916  3.293540     1  0.073182  1.786318      3.0   \n",
            "2     2  18.720172  160.353443  4.076150     1  0.288636  3.386263      3.0   \n",
            "3     3  23.313256  212.327250  3.025076     1  0.382189  1.384136      3.0   \n",
            "4     4  21.174963  306.385784  4.897758     1  0.551494  5.000000      3.0   \n",
            "\n",
            "    balance       soc  \n",
            "0  1.182981  0.500937  \n",
            "1 -1.140500  0.499881  \n",
            "2  0.674899  0.500415  \n",
            "3 -1.233675  0.499273  \n",
            "4  2.551494  0.501292  \n"
          ]
        }
      ]
    },
    {
      "cell_type": "markdown",
      "source": [
        "#Proteccion de Datos"
      ],
      "metadata": {
        "id": "ugoSDQNsiJLE"
      }
    },
    {
      "cell_type": "code",
      "source": [
        "import hashlib, json\n",
        "from datetime import datetime\n",
        "\n",
        "def _serialize_for_hash(x):\n",
        "    import numpy as _np\n",
        "    import pandas as _pd\n",
        "    if isinstance(x, (_np.floating, _np.integer)):\n",
        "        return x.item()                      # convierte numpy a Python nativo\n",
        "    if isinstance(x, _pd.Timestamp):\n",
        "        return x.isoformat()                 # timestamp a ISO8601\n",
        "    if isinstance(x, (datetime, )):\n",
        "        return x.isoformat()\n",
        "    return x\n",
        "\n",
        "def generar_hash(paquete: dict) -> str:\n",
        "    # excluimos cualquier hash previo para evitar auto-referencia\n",
        "    data = {k: v for k, v in paquete.items() if k != \"hash\"}\n",
        "    # saneo recursivo para json.dumps\n",
        "    def _clean(o):\n",
        "        if isinstance(o, dict):\n",
        "            return {k: _clean(v) for k, v in o.items()}\n",
        "        if isinstance(o, list):\n",
        "            return [_clean(v) for v in o]\n",
        "        return _serialize_for_hash(o)\n",
        "    clean = _clean(data)\n",
        "    payload = json.dumps(clean, sort_keys=True, ensure_ascii=False).encode()\n",
        "    return hashlib.sha256(payload).hexdigest()\n",
        "\n",
        "def verificar_hash(paquete: dict) -> bool:\n",
        "    hash_guardado = paquete.get(\"hash\", \"\")\n",
        "    paquete_sin_hash = {k: v for k, v in paquete.items() if k != \"hash\"}\n",
        "    return hash_guardado == generar_hash(paquete_sin_hash)\n"
      ],
      "metadata": {
        "id": "C_cHVJNsiI3O"
      },
      "execution_count": null,
      "outputs": []
    },
    {
      "cell_type": "markdown",
      "source": [
        "#Nodo de Integracion"
      ],
      "metadata": {
        "id": "TQqvJ8sLZBBP"
      }
    },
    {
      "cell_type": "code",
      "source": [
        "# -------------------------\n",
        "# INTEGRATION NODE con filtros\n",
        "# -------------------------\n",
        "class IntegrationNode:\n",
        "    \"\"\"\n",
        "    Toma las funciones/objetos de la Planta Real (generate_real_signals,\n",
        "    sensores, panel, turbina, bateria) y entrega un paquete unificado por t.\n",
        "   Incluye:\n",
        "    - Plausibility filter por cada sensor\n",
        "    - Kalman filter (si filterpy está disponible)\n",
        "    \"\"\"\n",
        "\n",
        "    generate_fn: Callable[[float], Dict[str, float]]\n",
        "    sensors: Dict[str, Any]                 # nombre -> Sensor instance\n",
        "    solar_panel: Optional[Any] = None\n",
        "    wind_turbine: Optional[Any] = None\n",
        "    battery: Optional[Any] = None\n",
        "    eta_carga: float = 0.95\n",
        "    eta_descarga: float = 0.9\n",
        "\n",
        "    def __init__(self, generate_fn, sensors, solar_panel=None, wind_turbine=None, battery=None, eta_carga: float = 0.95, eta_descarga: float = 0.9):\n",
        "        self.generate_fn = generate_fn\n",
        "        self.sensors = sensors\n",
        "        self.solar_panel = solar_panel\n",
        "        self.wind_turbine = wind_turbine\n",
        "        self.battery = battery\n",
        "        self.eta_carga = eta_carga\n",
        "        self.eta_descarga = eta_descarga\n",
        "\n",
        "        # Creamos un filtro de plausibilidad por sensor (ajustar rangos a tu caso real)\n",
        "        default_ranges = {\n",
        "            \"temp\": (-20, 60),\n",
        "            \"solar_rad\": (0, 1200),\n",
        "            \"humidity\": (0, 100),\n",
        "            \"pressure\": (900, 1100),\n",
        "            \"wind\": (0, 40),\n",
        "        }\n",
        "        self.plausibility_filters = {}\n",
        "        for name in sensors.keys():\n",
        "            mn, mx = default_ranges.get(name, (-1e9, 1e9))\n",
        "            self.plausibility_filters[name] = PlausibilityFilter(min_val=mn, max_val=mx)\n",
        "\n",
        "\n",
        "        # Creamos un filtro de Kalman por sensor si está disponible\n",
        "        self.kalman_filters = {}\n",
        "        if KalmanFilter is not None:\n",
        "            for name in sensors.keys():\n",
        "                kf = KalmanFilter(dim_x=1, dim_z=1)\n",
        "                kf.x = np.array([[0.]])            # estado inicial\n",
        "                kf.F = np.array([[1.]])            # matriz de transición\n",
        "                kf.H = np.array([[1.]])            # matriz de observación\n",
        "                kf.P *= 10.                        # incertidumbre inicial\n",
        "                kf.R = 5.                          # varianza de medición\n",
        "                kf.Q = 0.01                        # ruido del proceso\n",
        "                self.kalman_filters[name] = kf\n",
        "    def read_step(self, t: float, demanda_kw: float = 3.0) -> Dict[str, Any]:\n",
        "        # 1) valores \"verdaderos\"\n",
        "        true = self.generate_fn(t)\n",
        "\n",
        "        # 2) sensores + filtros\n",
        "        readings = {}\n",
        "        for name, sensor in self.sensors.items():\n",
        "            raw_val = sensor.read(true.get(name, np.nan))\n",
        "            plausible_val = self.plausibility_filters[name].check(raw_val)\n",
        "            if not np.isnan(plausible_val) and name in self.kalman_filters:\n",
        "                kf = self.kalman_filters[name]; kf.predict(); kf.update(plausible_val)\n",
        "                kalman_val = float(kf.x[0])\n",
        "            else:\n",
        "                kalman_val = np.nan\n",
        "            readings[name] = {\"raw\": raw_val, \"plausible\": plausible_val, \"kalman\": kalman_val}\n",
        "\n",
        "        # 3) generación renovable\n",
        "        panel_kw = self.solar_panel.generate(true.get(\"solar_rad\", 0.0)) if self.solar_panel else 0.0\n",
        "        turbine_kw = self.wind_turbine.generate(true.get(\"wind\", 0.0)) if self.wind_turbine else 0.0\n",
        "\n",
        "        # 4) balance\n",
        "        generation_kw = panel_kw + turbine_kw\n",
        "        balance_kw = generation_kw - demanda_kw\n",
        "\n",
        "        # 5) batería\n",
        "        soc_before = self.battery.soc if self.battery else None\n",
        "        if self.battery is not None:\n",
        "            if balance_kw > 0:\n",
        "                self.battery.charge(balance_kw * self.eta_carga, dt=1)\n",
        "            else:\n",
        "                self.battery.discharge((-balance_kw) / self.eta_descarga, dt=1)\n",
        "            soc_after = self.battery.soc\n",
        "        else:\n",
        "            soc_after = None\n",
        "\n",
        "        # 6) empaquetar\n",
        "        sensor_id_ref = next(iter(self.sensors.keys())) if self.sensors else \"INTEGRATION\"\n",
        "        packet = {\n",
        "            \"sensor_id\": sensor_id_ref,\n",
        "            \"time\": t,                 # timestamp crudo (simulado)\n",
        "            \"true\": true,\n",
        "            \"sensor_readings\": readings,\n",
        "            \"panel_kw\": panel_kw,\n",
        "            \"turbine_kw\": turbine_kw,\n",
        "            \"generation_kw\": generation_kw,\n",
        "            \"demanda_kw\": demanda_kw,\n",
        "            \"balance_kw\": balance_kw,\n",
        "            \"soc_before\": soc_before,\n",
        "            \"soc_after\": soc_after,\n",
        "        }\n",
        "\n",
        "        # 6b) corregir tiempo (añade time_corr / time_corr_ts)\n",
        "        packet = corregir_timestamp(packet, packet[\"sensor_id\"])\n",
        "\n",
        "        # 6c) hash DESPUÉS de corregir (auditoría consistente)\n",
        "        packet[\"hash\"] = generar_hash(packet)\n",
        "\n",
        "        return packet"
      ],
      "metadata": {
        "id": "y533-pNWIAZ9"
      },
      "execution_count": null,
      "outputs": []
    },
    {
      "cell_type": "code",
      "source": [
        "packet_test = {\"sensor_id\": \"S1\", \"time\": 1000.0}\n",
        "packet_test = corregir_timestamp(packet_test, packet_test[\"sensor_id\"])\n",
        "print(packet_test)"
      ],
      "metadata": {
        "colab": {
          "base_uri": "https://localhost:8080/"
        },
        "id": "Zt45gYHV1e5T",
        "outputId": "303b8cef-8651-46c8-8fd2-9e4fd62dd829"
      },
      "execution_count": null,
      "outputs": [
        {
          "output_type": "stream",
          "name": "stdout",
          "text": [
            "{'sensor_id': 'S1', 'time': 1000.0, 'time_corr': 1759196892.9034693, 'time_corr_ts': Timestamp('2025-09-30 01:48:12.903469324')}\n"
          ]
        }
      ]
    },
    {
      "cell_type": "code",
      "source": [
        "print(\"Δt = corr - crudo:\", packet_test[\"time_corr\"] - float(packet_test[\"time\"]))"
      ],
      "metadata": {
        "colab": {
          "base_uri": "https://localhost:8080/"
        },
        "id": "Bze7SYPm1fbY",
        "outputId": "471747d2-509f-455b-a2c2-d614fb5d4913"
      },
      "execution_count": null,
      "outputs": [
        {
          "output_type": "stream",
          "name": "stdout",
          "text": [
            "Δt = corr - crudo: 1759195892.9034693\n"
          ]
        }
      ]
    },
    {
      "cell_type": "code",
      "source": [
        "packet_test[\"time_corr\"]  # en lugar de packet[\"time\"]"
      ],
      "metadata": {
        "colab": {
          "base_uri": "https://localhost:8080/"
        },
        "id": "4_77E8m61hQu",
        "outputId": "c5caddb7-e503-4733-c8d7-ca23a4f79759"
      },
      "execution_count": null,
      "outputs": [
        {
          "output_type": "execute_result",
          "data": {
            "text/plain": [
              "1759196892.9034693"
            ]
          },
          "metadata": {},
          "execution_count": 227
        }
      ]
    },
    {
      "cell_type": "code",
      "source": [
        "deltas = []\n",
        "for i in range(200):\n",
        "    pkt = {\"sensor_id\": \"S1\", \"time\": 1000.0 + i*1.001}  # metemos un drift artificial\n",
        "    pkt = corregir_timestamp(pkt, pkt[\"sensor_id\"])\n",
        "    deltas.append(pkt[\"time_corr\"] - float(pkt[\"time\"]))\n",
        "\n",
        "plt.plot(deltas)\n",
        "plt.title(\"Corrección (corr - crudo) en 200 pasos\")\n",
        "plt.show()"
      ],
      "metadata": {
        "colab": {
          "base_uri": "https://localhost:8080/",
          "height": 386
        },
        "id": "YdJk-6AI1l3t",
        "outputId": "fab12f1d-800d-4df5-bdac-865613726728"
      },
      "execution_count": null,
      "outputs": [
        {
          "output_type": "display_data",
          "data": {
            "text/plain": [
              "<Figure size 1000x400 with 1 Axes>"
            ],
            "image/png": "[encoded data removed]"
          },
          "metadata": {}
        }
      ]
    },
    {
      "cell_type": "code",
      "source": [
        "# Sensores en diccionario\n",
        "sensores = {\n",
        "    \"temp\": termocupla1,        # ← variable de generate_real_signals\n",
        "    \"solar_rad\": infrarrojo1,   # ← variable de generate_real_signals\n",
        "    \"wind\": est_temp,           # ← variable de generate_real_signals\n",
        "    \"humidity\": est_hum,        # opcional\n",
        "    \"pressure\": est_press       # opcional\n",
        "}\n",
        "\n",
        "\n",
        "# Nodo de integración\n",
        "integration_node = IntegrationNode(\n",
        "    generate_fn=generate_real_signals,\n",
        "    sensors=sensores,\n",
        "    solar_panel=solar,\n",
        "    wind_turbine=turbina,\n",
        "    battery=bateria,\n",
        "    eta_carga=eta_carga,\n",
        "    eta_descarga=eta_descarga\n",
        ")\n",
        "integration_node.plausibility_filters = {\n",
        "    \"temp\":       PlausibilityFilter(-20, 60),\n",
        "    \"solar_rad\":  PlausibilityFilter(0, 1200),\n",
        "    \"humidity\":   PlausibilityFilter(0, 100),\n",
        "    \"pressure\":   PlausibilityFilter(900, 1100),  # CLAVE\n",
        "    \"wind\":       PlausibilityFilter(0, 40),\n",
        "}\n"
      ],
      "metadata": {
        "id": "f62q4_5T8viU"
      },
      "execution_count": null,
      "outputs": []
    },
    {
      "cell_type": "markdown",
      "source": [
        "##Gemelos"
      ],
      "metadata": {
        "id": "mxblsr_6xy91"
      }
    },
    {
      "cell_type": "code",
      "source": [
        "class Gemelo:\n",
        "    def __init__(self, name, model):\n",
        "        self.name = name\n",
        "        self.model = model\n",
        "\n",
        "    def entrenar(self, X, y):\n",
        "        self.model.fit(X, y)\n",
        "\n",
        "    def predict(self, X):\n",
        "        return self.model.predict(X)\n",
        "\n",
        "    def predict_proba(self, X):\n",
        "        return self.model.predict_proba(X)"
      ],
      "metadata": {
        "id": "r9zxG6Cdx1-r"
      },
      "execution_count": null,
      "outputs": []
    },
    {
      "cell_type": "markdown",
      "source": [
        "# Pipeline"
      ],
      "metadata": {
        "id": "Ho6jz2lHzbM3"
      }
    },
    {
      "cell_type": "code",
      "source": [
        "# ----------------------\n",
        "# PIPELINE CON MÉTRICAS DE CONFIANZA\n",
        "# ----------------------\n",
        "from collections import deque\n",
        "from typing import Callable, Dict, Any, Optional, Tuple\n",
        "import copy\n",
        "import numpy as np\n",
        "\n",
        "class ClockedPipeline:\n",
        "    \"\"\"\n",
        "    Pipeline con reloj virtual. Etapas: IF -> ID -> EX -> MEM -> WB\n",
        "    Implementa bancos de registro entre las etapas (IF_ID, ID_EX, EX_MEM, MEM_WB).\n",
        "    Permite:\n",
        "        - insertar burbujas (bubbles)\n",
        "        - recolectar métricas de confianza\n",
        "        - integración con un shadow validator\n",
        "    Métricas exportadas:\n",
        "        - skew_avg: error medio de estimación\n",
        "        - drift: desviación estándar del error\n",
        "        - bubble_ratio: porcentaje de burbujas generadas\n",
        "        - lateness_avg: edad promedio de los datos procesados\n",
        "    \"\"\"\n",
        "    STAGES = [\"IF\",\"ID\",\"EX\",\"MEM\",\"WB\"]\n",
        "    REG_PAIRS = { \"IF\":\"IF_ID\", \"ID\":\"ID_EX\", \"EX\":\"EX_MEM\", \"MEM\":\"MEM_WB\" }\n",
        "\n",
        "    def __init__(self,\n",
        "                 stage_handlers: Dict[str, Callable[[Dict[str, Any]], Optional[Dict[str, Any]]]],\n",
        "                 latencies: Optional[Dict[str, int]] = None,\n",
        "                 watermark_delay: int = 0,\n",
        "                 policy: str = \"wait\",\n",
        "                 insert_bubbles: bool = False,\n",
        "                 shadow_validator: Optional[Callable[[Dict[str, Any]], Tuple[bool, Any]]] = None):\n",
        "        self.stage_handlers = stage_handlers\n",
        "        self.latencies = latencies or {s:1 for s in self.STAGES}\n",
        "        self.watermark_delay = watermark_delay\n",
        "        assert policy in (\"wait\",\"realtime\")\n",
        "        self.policy = policy\n",
        "        self.insert_bubbles = insert_bubbles\n",
        "        self.shadow_validator = shadow_validator\n",
        "\n",
        "        self.in_queue = deque()\n",
        "        self.registers = { \"IF_ID\": None, \"ID_EX\": None, \"EX_MEM\": None, \"MEM_WB\": None }\n",
        "        self.stage_state = {\n",
        "            s: {\"busy\": False, \"remaining\": 0, \"packet\": None, \"completed_waiting\": False}\n",
        "            for s in self.STAGES\n",
        "        }\n",
        "\n",
        "        self.state_db = {}\n",
        "        self.completed = []\n",
        "        self.trace = []\n",
        "        self.virtual_time = 0\n",
        "\n",
        "        # --- métricas ---\n",
        "        self.metric_skew = []       # diferencias entre predicho y real\n",
        "        self.metric_drift = []      # desviación estándar del error\n",
        "        self.metric_bubbles = 0     # burbujas totales\n",
        "        self.metric_packets = 0     # paquetes procesados\n",
        "        self.metric_lateness = []   # edades de paquetes\n",
        "\n",
        "    # ----------- API ----------\n",
        "    def push(self, packet: Dict[str, Any]):\n",
        "        \"\"\"Agrega un paquete a la cola de entrada.\"\"\"\n",
        "        self.in_queue.append(copy.deepcopy(packet))\n",
        "\n",
        "    def _input_ready(self) -> bool:\n",
        "        \"\"\"Verifica si la etapa IF puede tomar un paquete de la cola.\"\"\"\n",
        "        if not self.in_queue:\n",
        "            return False\n",
        "        head = self.in_queue[0]\n",
        "        if self.policy == \"realtime\":\n",
        "            return True\n",
        "        return head.get(\"time\", 0) <= (self.virtual_time - self.watermark_delay)\n",
        "\n",
        "    def tick(self):\n",
        "        \"\"\"Avanza el pipeline un ciclo de reloj.\"\"\"\n",
        "        self.virtual_time += 1\n",
        "\n",
        "        # 1) Escribir outputs pendientes en registros\n",
        "        for s in self.STAGES:\n",
        "            st = self.stage_state[s]\n",
        "            if st[\"completed_waiting\"]:\n",
        "                # WB stage does not have an output register\n",
        "                if s != \"WB\":\n",
        "                    out_reg = self.REG_PAIRS[s]\n",
        "                    if self.registers[out_reg] is None:\n",
        "                        self.registers[out_reg] = st[\"packet\"]\n",
        "                        st.update({\"completed_waiting\": False, \"busy\": False, \"packet\": None, \"remaining\": 0})\n",
        "                else:\n",
        "                    # WB completed, consider it applied\n",
        "                    self.completed.append(st[\"packet\"])\n",
        "                    st.update({\"completed_waiting\": False, \"busy\": False, \"packet\": None, \"remaining\": 0})\n",
        "\n",
        "\n",
        "        # 2) Iniciar etapas (de WB hacia IF)\n",
        "        for s in reversed(self.STAGES):\n",
        "            st = self.stage_state[s]\n",
        "            if st[\"busy\"] or st[\"completed_waiting\"]:\n",
        "                continue\n",
        "\n",
        "            if s == \"IF\":\n",
        "                # Input viene de in_queue (si watermark lo permite)\n",
        "                out_reg = self.REG_PAIRS[s]\n",
        "                if self._input_ready() and self.registers[out_reg] is None:\n",
        "                    pkt = self.in_queue.popleft()\n",
        "                    st.update({\"packet\": pkt, \"busy\": True, \"remaining\": self.latencies.get(s,1)})\n",
        "            elif s == \"WB\":\n",
        "                # Input comes from MEM_WB register\n",
        "                prev_reg = self.REG_PAIRS[\"MEM\"] # Input for WB is MEM_WB\n",
        "                pkt = self.registers.get(prev_reg)\n",
        "                if pkt is not None: # WB does not write to a register, so no need to check output register\n",
        "                     # consume input\n",
        "                    self.registers[prev_reg] = None\n",
        "                    st.update({\"packet\": pkt, \"busy\": True, \"remaining\": self.latencies.get(s,1)})\n",
        "                else:\n",
        "                    # no input -> if insert_bubbles: we can start a NOP (bubble) if the output is free\n",
        "                    if pkt is None and self.insert_bubbles: # WB does not have an output register to check if free\n",
        "                        st.update({\"packet\": {\"bubble\": True, \"time\": self.virtual_time},\n",
        "                                   \"busy\": True, \"remaining\": self.latencies.get(s,1)})\n",
        "                        self.metric_bubbles += 1\n",
        "            else:\n",
        "                # Input viene del registro previo\n",
        "                prev_reg = self.REG_PAIRS[self.STAGES[self.STAGES.index(s)-1]]\n",
        "                out_reg = self.REG_PAIRS[s]\n",
        "                pkt = self.registers.get(prev_reg)\n",
        "                if pkt is not None and self.registers[out_reg] is None:\n",
        "                    # consumir input\n",
        "                    self.registers[prev_reg] = None\n",
        "                    st.update({\"packet\": pkt, \"busy\": True, \"remaining\": self.latencies.get(s,1)})\n",
        "                else:\n",
        "                    # no input -> si insert_bubbles: podemos iniciar un NOP (bubble) si la salida libre\n",
        "                    if pkt is None and self.insert_bubbles and self.registers[out_reg] is None:\n",
        "                        st.update({\"packet\": {\"bubble\": True, \"time\": self.virtual_time},\n",
        "                                   \"busy\": True, \"remaining\": self.latencies.get(s,1)})\n",
        "                        self.metric_bubbles += 1\n",
        "\n",
        "\n",
        "        # 3) Ejecutar 1 ciclo de trabajo para todas las etapas ocupadas (decrementar remaining)\n",
        "        #    Si una etapa llega a remaining==0, intentamos ejecutar su handler y escribir en su out_reg.\n",
        "        for s in self.STAGES:\n",
        "            st = self.stage_state[s]\n",
        "            if st[\"busy\"] and not st[\"completed_waiting\"]:\n",
        "                st[\"remaining\"] -= 1\n",
        "                if st[\"remaining\"] <= 0:\n",
        "                    # etapa completada este tick; ejecutar handler (si existe) y producir output\n",
        "                    pkt_in = st[\"packet\"]\n",
        "                    handler = self.stage_handlers.get(s)\n",
        "                    # Si es bubble, el handler puede recibir None o el dict bubble\n",
        "                    try:\n",
        "                        out_pkt = handler(pkt_in) if handler is not None else pkt_in\n",
        "                    except Exception as e:\n",
        "                        # si el handler falla, marcamos paquete con error y seguimos (no sobrescribimos registers)\n",
        "                        out_pkt = {\"error\": str(e), \"orig\": pkt_in, \"time\": self.virtual_time}\n",
        "\n",
        "                    # chequeo especial: si EX/MEM tiene validator (shadow), podemos validar antes de escribir MEM_WB\n",
        "                    if s == \"EX\" and self.shadow_validator is not None:\n",
        "                        ok, info = self.shadow_validator(out_pkt)\n",
        "                        out_pkt[\"_shadow_ok\"] = ok\n",
        "                        out_pkt[\"_shadow_info\"] = info\n",
        "                        # policy: si shadow returns False => bloquear el commit en MEM_WB (lo manejaremos cuando se intente escribir)\n",
        "                    # intentar escribir en out_reg\n",
        "                    if s != \"WB\":\n",
        "                        out_reg = self.REG_PAIRS[s]\n",
        "                        if self.registers[out_reg] is None:\n",
        "                            self.registers[out_reg] = out_pkt\n",
        "                            st.update({\"busy\": False, \"packet\": None, \"remaining\": 0})\n",
        "                        else:\n",
        "                            # no se puede escribir -> quedar en waiting (stall)\n",
        "                            st.update({\"completed_waiting\": True, \"packet\": out_pkt})\n",
        "                    else: # WB stage\n",
        "                        self.completed.append(out_pkt)\n",
        "                        st.update({\"busy\": False, \"packet\": None, \"remaining\": 0})\n",
        "\n",
        "\n",
        "        # 4) Guardar traza\n",
        "        self.trace.append({\n",
        "            \"time\": self.virtual_time,\n",
        "            \"in_queue_len\": len(self.in_queue),\n",
        "            \"registers\": copy.deepcopy(self.registers),\n",
        "            \"stage_state\": copy.deepcopy(self.stage_state)\n",
        "        })\n",
        "\n",
        "    def run_until_empty(self, max_ticks: int = 1000) -> int:\n",
        "        \"\"\"Ejecuta el pipeline hasta que no queden paquetes en cola ni en registros.\"\"\"\n",
        "        ticks = 0\n",
        "        while ticks < max_ticks:\n",
        "            if not self.in_queue and not any(st[\"busy\"] or st[\"completed_waiting\"] for st in self.stage_state.values()) \\\n",
        "               and not any(self.registers.values()):\n",
        "                break\n",
        "            self.tick()\n",
        "            ticks += 1\n",
        "        return ticks\n",
        "\n",
        "    # -------- métricas --------\n",
        "    def export_metrics(self) -> Dict[str, float]:\n",
        "        \"\"\"Devuelve métricas de confianza recolectadas en el pipeline.\"\"\"\n",
        "        skew_avg = float(np.mean(self.metric_skew)) if self.metric_skew else 0.0\n",
        "        drift = float(np.std(self.metric_skew)) if self.metric_skew else 0.0\n",
        "        lateness_avg = float(np.mean(self.metric_lateness)) if self.metric_lateness else 0.0\n",
        "        bubble_ratio = self.metric_bubbles / max(1, self.metric_packets)\n",
        "        return {\n",
        "            \"skew_avg\": skew_avg,\n",
        "            \"drift\": drift,\n",
        "            \"bubble_ratio\": bubble_ratio,\n",
        "            \"lateness_avg\": lateness_avg\n",
        "        }\n",
        "\n",
        "\n"
      ],
      "metadata": {
        "id": "VKOmX_LI6juT"
      },
      "execution_count": null,
      "outputs": []
    },
    {
      "cell_type": "markdown",
      "source": [
        "#Guardian"
      ],
      "metadata": {
        "id": "8ZJTZ1bd66kE"
      }
    },
    {
      "cell_type": "code",
      "source": [
        "from typing import Dict, Any, Tuple\n",
        "import numpy as np\n",
        "from sklearn.metrics import accuracy_score, brier_score_loss\n",
        "from sklearn.calibration import calibration_curve\n",
        "\n",
        "class Guardian:\n",
        "    \"\"\"\n",
        "    Guardian/auditoría para el pipeline.\n",
        "    Evalúa la confianza de las predicciones del gemelo digital (GD),\n",
        "    compara con gemelo sombra (GS),\n",
        "    y combina métricas propias con métricas del pipeline para tomar decisiones.\n",
        "    \"\"\"\n",
        "\n",
        "    def __init__(self, threshold: float = 0.7, bins: int = 10, max_disagreement: float = 0.15):\n",
        "        self.threshold = threshold\n",
        "        self.bins = bins\n",
        "        self.max_disagreement = max_disagreement\n",
        "\n",
        "        # --- logs internos ---\n",
        "        self.audit_log = []\n",
        "        self.disagreement_log = []\n",
        "\n",
        "    def evaluar(self,\n",
        "                gd_model,\n",
        "                gs_model,\n",
        "                X_gd,\n",
        "                X_gs,\n",
        "                y_true=None,\n",
        "                pipeline_metrics: Dict[str, float] = None\n",
        "               ) -> Tuple[bool, Dict[str, Any]]:\n",
        "        \"\"\"\n",
        "        Evalúa un batch de predicciones integrando GD, GS y métricas del pipeline.\n",
        "        \"\"\"\n",
        "\n",
        "        # ---------------------\n",
        "        # Predicciones\n",
        "        # ---------------------\n",
        "        y_proba_gd = gd_model.predict_proba(X_gd)[:, 1]\n",
        "        y_pred_gd = (y_proba_gd >= 0.5).astype(int)\n",
        "\n",
        "        y_proba_gs = gs_model.predict_proba(X_gs)[:, 1]\n",
        "        y_pred_gs = (y_proba_gs >= 0.5).astype(int)\n",
        "\n",
        "        # ---------------------\n",
        "        # Métricas de confianza del GD\n",
        "        # ---------------------\n",
        "        acc = accuracy_score(y_true, y_pred_gd) if y_true is not None else None\n",
        "        brier = brier_score_loss(y_true, y_proba_gd) if y_true is not None else None\n",
        "        prob_true, prob_pred = calibration_curve(y_true, y_proba_gd, n_bins=self.bins) if y_true is not None else ([], [])\n",
        "        ece = np.abs(prob_true - prob_pred).mean() if y_true is not None else None\n",
        "\n",
        "        mask_high_conf = y_proba_gd >= self.threshold\n",
        "        coverage = mask_high_conf.mean()\n",
        "        acc_high_conf = accuracy_score(np.array(y_true)[mask_high_conf], y_pred_gd[mask_high_conf]) \\\n",
        "            if y_true is not None and mask_high_conf.any() else None\n",
        "\n",
        "        # ---------------------\n",
        "        # Desacuerdo GD vs GS\n",
        "        # ---------------------\n",
        "        disagreement = np.mean(y_pred_gd != y_pred_gs)\n",
        "        self.disagreement_log.append(disagreement)\n",
        "\n",
        "        # ---------------------\n",
        "        # Métricas del pipeline\n",
        "        # ---------------------\n",
        "        pipeline_skew = pipeline_metrics.get(\"skew_avg\", 0.0) if pipeline_metrics else 0.0\n",
        "        pipeline_drift = pipeline_metrics.get(\"drift\", 0.0) if pipeline_metrics else 0.0\n",
        "        pipeline_bubbles = pipeline_metrics.get(\"bubble_ratio\", 0.0) if pipeline_metrics else 0.0\n",
        "        pipeline_lateness = pipeline_metrics.get(\"lateness_avg\", 0.0) if pipeline_metrics else 0.0\n",
        "\n",
        "        # ---------------------\n",
        "        # Decisión Guardian\n",
        "        # ---------------------\n",
        "        ok = True\n",
        "        reasons = []\n",
        "\n",
        "        # Confianza en GD\n",
        "        if acc_high_conf is not None and acc_high_conf < 0.6:\n",
        "            ok = False\n",
        "            reasons.append(f\"Precisión baja en alta confianza: {acc_high_conf:.3f}\")\n",
        "        if coverage < 0.5:\n",
        "            ok = False\n",
        "            reasons.append(f\"Coverage bajo: {coverage:.3f}\")\n",
        "\n",
        "        # Comparación GD vs GS\n",
        "        if disagreement > self.max_disagreement:\n",
        "            ok = False\n",
        "            reasons.append(f\"Disagreement alto: {disagreement:.3f}\")\n",
        "\n",
        "        # Métricas de pipeline\n",
        "        if pipeline_skew > 2.0:\n",
        "            ok = False\n",
        "            reasons.append(f\"Skew pipeline alto: {pipeline_skew:.3f}\")\n",
        "        if pipeline_bubbles > 0.35:\n",
        "            ok = False\n",
        "            reasons.append(f\"Ratio de burbujas alto: {pipeline_bubbles:.3f}\")\n",
        "        if pipeline_lateness > 1.5:\n",
        "            ok = False\n",
        "            reasons.append(f\"Lateness promedio alto: {pipeline_lateness:.2f}\")\n",
        "\n",
        "        # Lógica de decisión\n",
        "        if not ok:\n",
        "            if disagreement > self.max_disagreement * 2:\n",
        "                decision = \"Human in the loop\"\n",
        "            elif acc_high_conf is not None and acc_high_conf < 0.6:\n",
        "                decision = \"Rollback\"\n",
        "            else:\n",
        "                decision = \"Degraded Mode\"\n",
        "        else:\n",
        "            decision = \"Control Predictivo\"\n",
        "\n",
        "        # ---------------------\n",
        "        # Auditoría\n",
        "        # ---------------------\n",
        "        audit_entry = {\n",
        "            \"accuracy\": acc,\n",
        "            \"brier_score\": brier,\n",
        "            \"ece\": ece,\n",
        "            \"coverage\": coverage,\n",
        "            \"accuracy_high_conf\": acc_high_conf,\n",
        "            \"disagreement_rate\": disagreement,\n",
        "            \"pipeline_metrics\": pipeline_metrics,\n",
        "            \"ok\": ok,\n",
        "            \"reasons\": reasons,\n",
        "            \"decision\": decision\n",
        "        }\n",
        "        self.audit_log.append(audit_entry)\n",
        "\n",
        "        return ok, audit_entry\n",
        "\n",
        "    def get_audit_log(self):\n",
        "        return self.audit_log\n"
      ],
      "metadata": {
        "id": "vMM1s_aj6mvd"
      },
      "execution_count": null,
      "outputs": []
    },
    {
      "cell_type": "code",
      "source": [
        "# ==== KPIs de resiliencia (setup) ====\n",
        "states_log, times_log, valid_flags, hash_ok_log = [], [], [], []\n",
        "\n",
        "def _valid_rate_from_readings(readings: dict) -> float:\n",
        "    tot = 0; ok = 0\n",
        "    # readings esperado: {\"temp\": {\"raw\":..,\"plausible\":..,\"kalman\":..}, ...}\n",
        "    for vals in readings.values():\n",
        "        if not isinstance(vals, dict):\n",
        "            continue\n",
        "        if \"plausible\" in vals:\n",
        "            tot += 1; ok += 0 if pd.isna(vals[\"plausible\"]) else 1\n",
        "        elif \"kalman\" in vals:\n",
        "            tot += 1; ok += 0 if pd.isna(vals[\"kalman\"]) else 1\n",
        "    return (ok/tot) if tot else 0.0\n",
        "\n",
        "def kpi_log_step(packet, state_label, ece, coverage, disagreement):\n",
        "    # usar SIEMPRE el tiempo corregido del IntegrationNode\n",
        "    times_log.append(packet[\"time_corr_ts\"])\n",
        "    states_log.append(state_label)\n",
        "    valid_flags.append(_valid_rate_from_readings(packet[\"sensor_readings\"]))\n",
        "    # si más adelante implementás verificación de hash encadenado por ventana, actualizá este flag\n",
        "    hash_ok_log.append(True)\n",
        "    # Índice de confiabilidad compuesto\n",
        "    return kpi_cri(ece=ece or 0.0, coverage=coverage or 0.0, disagreement=disagreement or 0.0)\n",
        "\n",
        "def kpi_resumen():\n",
        "    s = pd.Series(states_log, index=pd.DatetimeIndex(times_log))\n",
        "    return {\n",
        "        \"MTTR_s\": kpi_mttr(s, nominal_state=\"Control Predictivo\", sustain=2),\n",
        "        \"state_ratios\": kpi_state_ratios(s).to_dict(),\n",
        "        \"valid_rate\": float(np.mean(valid_flags)) if valid_flags else 0.0,\n",
        "        \"hash_integrity\": kpi_hash_integrity(pd.Series(hash_ok_log)) if hash_ok_log else 0.0\n",
        "    }\n",
        "# ==== fin KPIs ====\n",
        "\n"
      ],
      "metadata": {
        "id": "MlDy8Y4tyghX"
      },
      "execution_count": null,
      "outputs": []
    },
    {
      "cell_type": "code",
      "source": [
        "# generar un packet real desde el IntegrationNode para loguear KPIs (trae time_corr/time_corr_ts)\n",
        "packet = integration_node.read_step(t, demanda_kw=3.0)\n",
        "\n",
        "# registrar estado del sistema y métricas de auditoría (usa los campos de audit_entry)\n",
        "_ = kpi_log_step(\n",
        "    packet=packet,\n",
        "    state_label=audit_entry[\"decision\"],                     # 'Control Predictivo' / 'Degraded Mode' / 'Rollback' / 'Human in the loop'\n",
        "    ece=audit_entry.get(\"ece\"),\n",
        "    coverage=audit_entry.get(\"coverage\"),\n",
        "    disagreement=audit_entry.get(\"disagreement_rate\")\n",
        ")\n",
        "\n",
        "# (opcional) imprimir un resumen cada 50 pasos\n",
        "if (t+1) % 50 == 0:\n",
        "    print(\"KPIs parciales:\", kpi_resumen())\n"
      ],
      "metadata": {
        "id": "7WbJEsiPzEsa"
      },
      "execution_count": null,
      "outputs": []
    },
    {
      "cell_type": "code",
      "source": [
        "# 3) Probar rápido\n",
        "pkt = integration_node.read_step(123.0, demanda_kw=3.0)\n",
        "print(\"pressure raw:\", pkt[\"sensor_readings\"][\"pressure\"][\"raw\"])\n",
        "print(\"pressure plausible:\", pkt[\"sensor_readings\"][\"pressure\"][\"plausible\"])\n",
        "print(\"solar_rad raw:\", pkt[\"sensor_readings\"][\"solar_rad\"][\"raw\"])\n",
        "print(\"solar_rad plausible:\", pkt[\"sensor_readings\"][\"solar_rad\"][\"plausible\"])\n",
        "\n",
        "# valid_rate de un paso (debería subir)\n",
        "def _valid_rate_from_readings_debug(readings: dict) -> float:\n",
        "    import pandas as _pd\n",
        "    tot=0; ok=0\n",
        "    for vals in readings.values():\n",
        "        if isinstance(vals, dict):\n",
        "            if \"plausible\" in vals:\n",
        "                tot += 1; ok += 0 if _pd.isna(vals[\"plausible\"]) else 1\n",
        "            elif \"kalman\" in vals:\n",
        "                tot += 1; ok += 0 if _pd.isna(vals[\"kalman\"]) else 1\n",
        "    return (ok/tot) if tot else 0.0\n",
        "\n",
        "print(\"valid_rate (1 paso):\", _valid_rate_from_readings_debug(pkt[\"sensor_readings\"]))\n",
        "\n"
      ],
      "metadata": {
        "colab": {
          "base_uri": "https://localhost:8080/"
        },
        "id": "yrBIHcJ46xkE",
        "outputId": "beffdbb4-830f-4b35-e14e-2362c6709a90"
      },
      "execution_count": null,
      "outputs": [
        {
          "output_type": "stream",
          "name": "stdout",
          "text": [
            "pressure raw: 1014.7697328442948\n",
            "pressure plausible: 1014.7697328442948\n",
            "solar_rad raw: 5.107658514462217\n",
            "solar_rad plausible: 5.107658514462217\n",
            "valid_rate (1 paso): 1.0\n"
          ]
        }
      ]
    },
    {
      "cell_type": "markdown",
      "source": [
        "##Simulacion completa\n",
        "\n"
      ],
      "metadata": {
        "id": "TQXR5wzQdICC"
      }
    },
    {
      "cell_type": "code",
      "source": [
        "def generar_planta_real(n_samples=1):\n",
        "    return np.random.randn(n_samples, 3)\n"
      ],
      "metadata": {
        "id": "U7cinD1S_Mot"
      },
      "execution_count": null,
      "outputs": []
    },
    {
      "cell_type": "code",
      "source": [
        "# -----------------------\n",
        "# LOOP DE SIMULACIONES\n",
        "# -----------------------\n",
        "from sklearn.ensemble import RandomForestClassifier\n",
        "from sklearn.linear_model import LogisticRegression\n",
        "import numpy as np\n",
        "\n",
        "gd = Gemelo(\"GD\", RandomForestClassifier(n_estimators=100, random_state=42))\n",
        "gs = Gemelo(\"GS\", LogisticRegression(max_iter=1000, random_state=42))\n",
        "\n",
        "# Entrenamiento inicial\n",
        "X_train = np.random.randn(300, 3)\n",
        "y_train = (X_train[:, 0] + X_train[:, 1]*0.5 + np.random.randn(300)*0.2 > 0).astype(int)\n",
        "gd.entrenar(X_train, y_train)\n",
        "gs.entrenar(X_train, y_train)\n",
        "deploy_id = snapshot_model(\n",
        "    model_obj=gd.model,\n",
        "    cfg_dict={\"threshold\": 0.7},\n",
        "    metrics_dict={\"ece\": 0.0, \"coverage\": 1.0, \"disagreement\": 0.0}\n",
        ")\n",
        "\n",
        "pipeline = ClockedPipeline(stage_handlers={})\n",
        "guardian = Guardian(threshold=0.6, bins=10, max_disagreement=0.25)\n",
        "\n"
      ],
      "metadata": {
        "colab": {
          "base_uri": "https://localhost:8080/"
        },
        "id": "gwhRG-gSyGtc",
        "outputId": "c3bc39bf-12bf-46a2-dad8-0cc833e6c997"
      },
      "execution_count": null,
      "outputs": [
        {
          "output_type": "stream",
          "name": "stdout",
          "text": [
            "[Snapshot] deploy_id: f83dded8\n"
          ]
        }
      ]
    },
    {
      "cell_type": "code",
      "source": [
        "states_log.clear(); times_log.clear(); valid_flags.clear(); hash_ok_log.clear()\n"
      ],
      "metadata": {
        "id": "ol6F8ZzpzQl4"
      },
      "execution_count": null,
      "outputs": []
    },
    {
      "cell_type": "code",
      "source": [
        "from resiliencia_kairos import HybridWatermarkBuffer\n",
        "np.random.seed(10)\n",
        "\n",
        "# === Parámetros del escenario ===\n",
        "N = 200                    # número de pasos\n",
        "late_prob = 0.10\n",
        "device_drift = 1.002\n",
        "WATERMARK_DELAY = 4.0\n",
        "MAX_LATE = 12.0\n",
        "\n",
        "# Reset de bases para resincronización relativa\n",
        "_BASES.clear()\n",
        "WMBUF = HybridWatermarkBuffer(delay_seconds=WATERMARK_DELAY, max_lateness_seconds=MAX_LATE)\n",
        "\n",
        "def process(pkt):\n",
        "    # Métricas “benignas” (más cerca de nominal)\n",
        "    pipeline_metrics = {\n",
        "        \"skew_avg\":     np.abs(np.random.normal(0.3, 0.2)),     # ↓\n",
        "        \"drift\":        np.abs(np.random.normal(0.08, 0.05)),    # ↓\n",
        "        \"bubble_ratio\": np.clip(np.random.beta(2, 18), 0, 1),    # ↓ antes era beta(2,5)\n",
        "        \"lateness_avg\": max(0.0, np.random.normal(0.35, 0.15))     # ↓ antes ~2.0\n",
        "    }\n",
        "\n",
        "\n",
        "    # Auditoría de GD/GS (dummy)\n",
        "    X = np.random.randn(20,3)\n",
        "    y = (X[:,0] + 0.5*X[:,1] > 0).astype(int)\n",
        "    ok, audit_entry = guardian.evaluar(gd.model, gs.model, X, X, y, pipeline_metrics)\n",
        "\n",
        "    # KPIs con tiempo corregido del IntegrationNode\n",
        "    _ = kpi_log_step(pkt, audit_entry[\"decision\"],\n",
        "                     audit_entry.get(\"ece\"),\n",
        "                     audit_entry.get(\"coverage\"),\n",
        "                     audit_entry.get(\"disagreement_rate\"))\n",
        "\n",
        "# === 1) Generamos paquetes con reloj “desviado” y simulamos llegadas tarde ===\n",
        "packets_wire = []\n",
        "for t in range(N):\n",
        "    t_dev = t * device_drift  # deriva del reloj del dispositivo\n",
        "    pkt = integration_node.read_step(t_dev, demanda_kw=3.0)\n",
        "\n",
        "    # ~20% llegan tarde (reordenamos su “tiempo de llegada”)\n",
        "    if np.random.rand() < late_prob:\n",
        "        delay_steps = np.random.randint(1, 6)  # 1–5 pasos de atraso\n",
        "        packets_wire.append((min(N-1, t + delay_steps), pkt))\n",
        "    else:\n",
        "        packets_wire.append((t, pkt))\n",
        "\n",
        "# === 2) Entregamos según “tiempo de llegada” simulado + watermark ===\n",
        "for _, pkt in sorted(packets_wire, key=lambda x: x[0]):\n",
        "    # usamos el tiempo CORREGIDO del IntegrationNode para el buffer\n",
        "    WMBUF.push(pkt[\"time_corr_ts\"], pkt)\n",
        "    for ready in WMBUF.pop_ready():\n",
        "        process(ready)\n",
        "\n",
        "# vaciar remanente\n",
        "for ready in WMBUF.pop_ready():\n",
        "    process(ready)\n",
        "\n",
        "print(\"Escenario 1 — KPIs:\", kpi_resumen())"
      ],
      "metadata": {
        "id": "XDcttWIah7_0",
        "colab": {
          "base_uri": "https://localhost:8080/"
        },
        "outputId": "0f7a98db-0a25-4475-c699-3539c3ff309c"
      },
      "execution_count": null,
      "outputs": [
        {
          "output_type": "stream",
          "name": "stdout",
          "text": [
            "Escenario 1 — KPIs: {'MTTR_s': 11.699041119999997, 'state_ratios': {'Control Predictivo': 0.5151515151515151, 'Degraded Mode': 0.48484848484848486}, 'valid_rate': 0.9696969696969697, 'hash_integrity': 1.0}\n"
          ]
        }
      ]
    },
    {
      "cell_type": "code",
      "source": [
        "from pprint import pprint\n",
        "pkt = integration_node.read_step(200.0, demanda_kw=3.0)\n",
        "pprint(pkt[\"sensor_readings\"])\n",
        "print(\"valid_rate:\", _valid_rate_from_readings(pkt[\"sensor_readings\"]))\n"
      ],
      "metadata": {
        "colab": {
          "base_uri": "https://localhost:8080/"
        },
        "id": "Y5JqFAQUDwii",
        "outputId": "3bc7436f-fc95-4441-d12a-5adcc3f8f3d1"
      },
      "execution_count": null,
      "outputs": [
        {
          "output_type": "stream",
          "name": "stdout",
          "text": [
            "{'humidity': {'kalman': nan,\n",
            "              'plausible': 43.72651528804855,\n",
            "              'raw': np.float64(43.72651528804855)},\n",
            " 'pressure': {'kalman': nan,\n",
            "              'plausible': 1021.5470567962908,\n",
            "              'raw': np.float64(1021.5470567962908)},\n",
            " 'solar_rad': {'kalman': nan,\n",
            "               'plausible': 742.8291291762746,\n",
            "               'raw': np.float64(742.8291291762746)},\n",
            " 'temp': {'kalman': nan,\n",
            "          'plausible': 15.212469085706486,\n",
            "          'raw': np.float64(15.212469085706486)},\n",
            " 'wind': {'kalman': nan,\n",
            "          'plausible': 3.942193587655678,\n",
            "          'raw': np.float64(3.942193587655678)}}\n",
            "valid_rate: 1.0\n"
          ]
        }
      ]
    },
    {
      "cell_type": "code",
      "source": [
        "for k, f in integration_node.plausibility_filters.items():\n",
        "    print(k, \"→\", getattr(f, \"min_val\", None), getattr(f, \"max_val\", None))\n"
      ],
      "metadata": {
        "colab": {
          "base_uri": "https://localhost:8080/"
        },
        "id": "bD5P1BDiFMmA",
        "outputId": "f927442a-1c67-421a-e1c2-2671209bd4b1"
      },
      "execution_count": null,
      "outputs": [
        {
          "output_type": "stream",
          "name": "stdout",
          "text": [
            "temp → -20 60\n",
            "solar_rad → 0 1200\n",
            "humidity → 0 100\n",
            "pressure → 900 1100\n",
            "wind → 0 40\n"
          ]
        }
      ]
    },
    {
      "cell_type": "code",
      "source": [
        "# Estados únicos que se registraron\n",
        "print(\"Etiquetas únicas:\", set(states_log))\n"
      ],
      "metadata": {
        "colab": {
          "base_uri": "https://localhost:8080/"
        },
        "id": "QVH8CZhaM7_B",
        "outputId": "8b602777-eeae-4018-a8de-3115aa383bdc"
      },
      "execution_count": null,
      "outputs": [
        {
          "output_type": "stream",
          "name": "stdout",
          "text": [
            "Etiquetas únicas: {'Degraded Mode', 'Control Predictivo'}\n"
          ]
        }
      ]
    },
    {
      "cell_type": "code",
      "source": [
        "# Muestra un tramo de 20 estados (ajustá índices a gusto)\n",
        "start, end = 30, 50\n",
        "print(f\"states_log[{start}:{end}]:\", states_log[start:end])"
      ],
      "metadata": {
        "colab": {
          "base_uri": "https://localhost:8080/"
        },
        "id": "_fstja9rNCbJ",
        "outputId": "16469b26-5fbb-458d-d434-70eb3a080e6a"
      },
      "execution_count": null,
      "outputs": [
        {
          "output_type": "stream",
          "name": "stdout",
          "text": [
            "states_log[30:50]: ['Control Predictivo', 'Control Predictivo', 'Control Predictivo', 'Degraded Mode', 'Degraded Mode', 'Degraded Mode', 'Control Predictivo', 'Control Predictivo', 'Control Predictivo', 'Control Predictivo', 'Degraded Mode', 'Degraded Mode', 'Degraded Mode', 'Degraded Mode', 'Degraded Mode', 'Degraded Mode', 'Control Predictivo', 'Degraded Mode', 'Degraded Mode', 'Degraded Mode']\n"
          ]
        }
      ]
    },
    {
      "cell_type": "code",
      "source": [
        "s = pd.Series(states_log, index=pd.DatetimeIndex(times_log))\n",
        "print(\"Conteo por estado:\")\n",
        "print(s.value_counts())\n",
        "\n",
        "# MTTR con el nominal correcto (tiene espacio)\n",
        "print(\"MTTR_s (Control Predictivo, sustain=2):\", kpi_mttr(s, nominal_state=\"Control Predictivo\", sustain=2))\n"
      ],
      "metadata": {
        "colab": {
          "base_uri": "https://localhost:8080/"
        },
        "id": "7LgeDeFANHWe",
        "outputId": "f0a90811-3868-4c55-e7cc-cc9ae9b0cdf8"
      },
      "execution_count": null,
      "outputs": [
        {
          "output_type": "stream",
          "name": "stdout",
          "text": [
            "Conteo por estado:\n",
            "Control Predictivo    102\n",
            "Degraded Mode          96\n",
            "Name: count, dtype: int64\n",
            "MTTR_s (Control Predictivo, sustain=2): 11.699268199999999\n"
          ]
        }
      ]
    }
  ]
}